{
 "cells": [
  {
   "cell_type": "markdown",
   "metadata": {},
   "source": [
    "<div style=\" border-bottom: 8px solid #00B2FF; overflow: hidden; border-radius: 10px; height: 60px; width: 100%; display: flex;\">\n",
    "  <div style=\"height: 100%; width: 100%; background-color: #3800BB; float: left; text-align: center; display: flex; justify-content: left; align-items: center; font-size: 40px; \">\n",
    "    <b><span style=\"color: #FFFFFF; padding: 20px 20px;\">Visualization: Model Errors</span></b>\n",
    "  </div>\n",
    "</div>"
   ]
  },
  {
   "cell_type": "markdown",
   "metadata": {},
   "source": [
    "<div style=\" border-bottom: 8px solid #E3F56C; overflow: hidden; border-radius: 10px; height: 60px; width: 100%; display: flex;\">\n",
    "  <div style=\"height: 100%; width: 100%; background-color: #3800BB; float: left; text-align: center; display: flex; justify-content: left; align-items: center; font-size: 40px; \">\n",
    "    <b><span style=\"color: #FFFFFF; padding: 20px 20px;\">Visualization: Model Errors</span></b>\n",
    "  </div>\n",
    "</div>"
   ]
  },
  {
   "cell_type": "markdown",
   "metadata": {},
   "source": [
    "<div style=\" border-bottom: 8px solid #e3f56c; overflow: hidden; border-radius: 10px; height: 95%; width: 100%; display: flex;\">\n",
    "  <div style=\"height: 100%; width: 100%; background-color: #3800BB; float: left; text-align: center; display: flex; justify-content: left; align-items: center; font-size: 40px; \">\n",
    "    <b><span style=\"color: #FFFFFF; padding: 20px 20px;\">Hyperparameters Tuning with Optuna</span></b>\n",
    "  </div>\n",
    "</div>\n",
    "\n"
   ]
  },
  {
   "cell_type": "markdown",
   "metadata": {},
   "source": [
    "<div style=\" border-bottom: 8px solid #00B2FF; overflow: hidden; border-radius: 10px; height: 45px; width: 100%; display: flex;\">\n",
    "  <div style=\"height: 100%; width: 100%; background-color: #3800BB; float: left; text-align: center; display: flex; justify-content: left; align-items: center; font-size: 25px; \">\n",
    "    <b><span style=\"color: #FFFFFF; padding: 20px 20px;\">[1] Introduction</span></b>\n",
    "  </div>\n",
    "</div>"
   ]
  },
  {
   "cell_type": "markdown",
   "metadata": {
    "vscode": {
     "languageId": "plaintext"
    }
   },
   "source": [
    "<div class=\"alert alert-danger\">\n",
    "\n",
    "</div>"
   ]
  },
  {
   "cell_type": "markdown",
   "metadata": {
    "vscode": {
     "languageId": "plaintext"
    }
   },
   "source": [
    "<div class=\"alert alert-warning\">\n",
    "\n",
    "</div>"
   ]
  },
  {
   "cell_type": "markdown",
   "metadata": {},
   "source": [
    "<div class=\"alert alert-info\">\n",
    "\n",
    "</div>"
   ]
  },
  {
   "cell_type": "markdown",
   "metadata": {
    "vscode": {
     "languageId": "plaintext"
    }
   },
   "source": [
    "<div class=\"alert alert-success\">\n",
    "\n",
    "</div>"
   ]
  },
  {
   "cell_type": "markdown",
   "metadata": {},
   "source": [
    "<div class=\"alert\" style=\"background-color: #FEDAD5; border-left: 8px solid #B12111; padding: 14px; border-radius: 8px; font-size: 14px; color: #000000;\">\n",
    "  <h5 style=\"font-size: 16px; margin-bottom: 10px;\">\n",
    "    <strong> BOLD TEXT </strong><em>Cursive Text</em>\n",
    "  </h5>\n",
    "\n",
    "  <p><em>Cursive in paragraph</em>🚀. Regular in paragraph\n",
    "  <hr>\n",
    "  Regular text in paragraph after horizontal line\n",
    "  </p>\n",
    "\n",
    "</div>"
   ]
  },
  {
   "cell_type": "markdown",
   "metadata": {},
   "source": [
    "<div class=\"alert\" style=\"background-color: #FEF9E7; border-left: 8px solid #D4AC0D; padding: 14px; border-radius: 8px; font-size: 14px; color: #000000;\">\n",
    "  <h5 style=\"font-size: 16px; margin-bottom: 10px;\">\n",
    "    <strong> BOLD TEXT </strong><em>Cursive Text</em>\n",
    "  </h5>\n",
    "\n",
    "  <p><em>Cursive in paragraph</em>🚀. Regular in paragraph\n",
    "  <hr>\n",
    "  Regular text in paragraph after horizontal line\n",
    "  </p>\n",
    "\n",
    "</div>"
   ]
  },
  {
   "cell_type": "markdown",
   "metadata": {},
   "source": [
    "<div class=\"alert\" style=\"background-color:  #E8F8F5; border-left: 8px solid #1ABC9C; padding: 14px; border-radius: 8px; font-size: 14px; color: #000000;\">\n",
    "  <h5 style=\"font-size: 16px; margin-bottom: 10px;\">\n",
    "    <strong> BOLD TEXT </strong><em>Cursive Text</em>\n",
    "  </h5>\n",
    "\n",
    "  <p><em>Cursive in paragraph</em>🚀. Regular in paragraph\n",
    "  <hr>\n",
    "  Regular text in paragraph after horizontal line\n",
    "  </p>\n",
    "\n",
    "</div>\n"
   ]
  },
  {
   "cell_type": "markdown",
   "metadata": {
    "vscode": {
     "languageId": "plaintext"
    }
   },
   "source": [
    "<div class=\"alert\" style=\"background-color:rgb(0, 0, 0); border-left: 8px solid #B12111; padding: 14px; border-radius: 8px; font-size: 14px; color:rgb(255, 255, 255);\">\n",
    "\n",
    "```python\n",
    "def func(x):\n",
    "    return x\n",
    "```\n",
    "\n",
    "</div>"
   ]
  },
  {
   "cell_type": "markdown",
   "metadata": {},
   "source": [
    "<div class=\"alert alert-danger\">\n",
    "\n",
    "### **Tuning optimal hyperparameters** \n",
    "</div>\n",
    "\n",
    "<div class=\"alert\" style=\"background-color:rgb(255, 255, 255); border-left: 8px solid #B12111; padding: 14px; border-radius: 8px; font-size: 14px; color: #000000;\">\n",
    "\n",
    "### **Conclusions**\n",
    "\n",
    "`CatBoost` provides two methods for hyperparameter tuning: `grid_search` and `randomized_search`. According to the framework's authors, these methods are optimized and perform the task faster than their counterparts in `sklearn`. [Grid search](https://catboost.ai/en/docs/concepts/python-reference_catboostclassifier_grid_search) simply iterates over parameters based on a specified grid, while [randomized search](https://catboost.ai/en/docs/concepts/python-reference_catboostclassifier_randomized_search) takes random samples from a given distribution.\n",
    "\n",
    "Let’s look at an example using `randomized search`. In the upcoming modules, you’ll learn about faster and smarter hyperparameter optimizers, but these are a good place to start.\n",
    "\n",
    "</div>"
   ]
  },
  {
   "cell_type": "markdown",
   "metadata": {},
   "source": [
    "<div class=\"alert alert-warning\">\n",
    "\n",
    "### **Tuning optimal hyperparameters** \n",
    "</div>\n",
    "\n",
    "<div class=\"alert\" style=\"background-color:rgb(255, 255, 255); border-left: 8px solid #D4AC0D; padding: 14px; border-radius: 8px; font-size: 14px; color: #000000;\">\n",
    "\n",
    "### **Conclusions**\n",
    "\n",
    "`CatBoost` provides two methods for hyperparameter tuning: `grid_search` and `randomized_search`. According to the framework's authors, these methods are optimized and perform the task faster than their counterparts in `sklearn`. [Grid search](https://catboost.ai/en/docs/concepts/python-reference_catboostclassifier_grid_search) simply iterates over parameters based on a specified grid, while [randomized search](https://catboost.ai/en/docs/concepts/python-reference_catboostclassifier_randomized_search) takes random samples from a given distribution.\n",
    "\n",
    "Let’s look at an example using `randomized search`. In the upcoming modules, you’ll learn about faster and smarter hyperparameter optimizers, but these are a good place to start.\n",
    "\n",
    "</div>"
   ]
  },
  {
   "cell_type": "markdown",
   "metadata": {},
   "source": [
    "<div class=\"alert alert-info\">\n",
    "\n",
    "### **Tuning optimal hyperparameters** \n",
    "</div>\n",
    "\n",
    "<div class=\"alert\" style=\"background-color: #FFFFFF; border-left: 8px solid #1ABC9C; padding: 14px; border-radius: 8px; font-size: 14px; color: #000000;\">\n",
    "\n",
    "### **Conclusions**\n",
    "\n",
    "`CatBoost` provides two methods for hyperparameter tuning: `grid_search` and `randomized_search`. According to the framework's authors, these methods are optimized and perform the task faster than their counterparts in `sklearn`. [Grid search](https://catboost.ai/en/docs/concepts/python-reference_catboostclassifier_grid_search) simply iterates over parameters based on a specified grid, while [randomized search](https://catboost.ai/en/docs/concepts/python-reference_catboostclassifier_randomized_search) takes random samples from a given distribution.\n",
    "\n",
    "Let’s look at an example using `randomized search`. In the upcoming modules, you’ll learn about faster and smarter hyperparameter optimizers, but these are a good place to start.\n",
    "</div>\n"
   ]
  },
  {
   "cell_type": "markdown",
   "metadata": {},
   "source": [
    "<div class=\"alert alert-success\">\n",
    "\n",
    "### **Other Models and Modes** \n",
    "</div>\n",
    "\n",
    "<div class=\"alert\" style=\"background-color:rgb(255, 255, 255); border-left: 8px solid #5ad197; padding: 14px; border-radius: 8px; font-size: 14px; color: #000000;\">\n",
    "\n",
    "### **Conclusions**\n",
    "\n",
    "* In this notebook, we only covered the classification model. We'll look at regression later.  \n",
    "* CatBoost can solve multi-class or even multi-label classification problems (by changing the loss function).  \n",
    "* The library also includes a model for ranking tasks: [**CatBoostRanker**](https://catboost.ai/en/docs/concepts/python-reference_catboostranker). <br>\n",
    "* An example of solving a [matching problem using CatBoostRanker at VTB DataFusionContest2022](https://github.com/Ivanich-spb/VTB_DataFusion_Contest_2022).\n",
    "\n",
    "</div>"
   ]
  },
  {
   "cell_type": "markdown",
   "metadata": {},
   "source": [
    "<div class=\"alert\" style=\"background-color:rgb(255, 255, 255); border-left: 8px solid #5ad197; padding: 14px; border-radius: 8px; font-size: 14px; color: #000000;\">\n",
    "\n",
    "### **Conclusions**\n",
    "\n",
    "* **TSFresh** is a feature-rich library offering built-in feature selection, extensive customization options, parallelization support, and scalability for large datasets.\n",
    "* It is important to consider memory and computation constraints: running it with default parameters may result in extremely high resource consumption, followed by additional time for feature selection and model training.\n",
    "* When used effectively, `TSFresh` can significantly reduce development time and computational overhead.\n",
    "* For a faster alternative, consider exploring the [`TSfel`](https://tsfel.readthedocs.io/en/latest/) library.\n",
    "\n",
    "</div>\n"
   ]
  },
  {
   "cell_type": "markdown",
   "metadata": {},
   "source": []
  },
  {
   "cell_type": "code",
   "execution_count": null,
   "metadata": {
    "vscode": {
     "languageId": "plaintext"
    }
   },
   "outputs": [],
   "source": []
  },
  {
   "cell_type": "code",
   "execution_count": null,
   "metadata": {
    "vscode": {
     "languageId": "plaintext"
    }
   },
   "outputs": [],
   "source": []
  },
  {
   "cell_type": "markdown",
   "metadata": {},
   "source": [
    "<div class=\"alert\" style=\"background-color: #FFFFFF; border-left: 8px solid #B12111; padding: 14px; border-radius: 8px; font-size: 14px; color: #000000;\">\n",
    "\n",
    "<div class=\"alert alert-danger\">\n",
    "\n",
    "**Tuning optimal hyperparameters** \n",
    "</div>\n",
    "\n",
    "`CatBoost` provides two methods for hyperparameter tuning: `grid_search` and `randomized_search`. According to the framework's authors, these methods are optimized and perform the task faster than their counterparts in `sklearn`. [Grid search](https://catboost.ai/en/docs/concepts/python-reference_catboostclassifier_grid_search) simply iterates over parameters based on a specified grid, while [randomized search](https://catboost.ai/en/docs/concepts/python-reference_catboostclassifier_randomized_search) takes random samples from a given distribution.\n",
    "\n",
    "Let’s look at an example using `randomized search`. In the upcoming modules, you’ll learn about faster and smarter hyperparameter optimizers, but these are a good place to start.\n",
    "\n",
    "</div>"
   ]
  },
  {
   "cell_type": "markdown",
   "metadata": {},
   "source": [
    "<div class=\"alert\" style=\"background-color:#FFFFFF; border-left: 8px solid #D4AC0D; padding: 14px; border-radius: 8px; font-size: 14px; color: #000000;\">\n",
    "\n",
    "<div class=\"alert alert-warning\">\n",
    "\n",
    "**Tuning optimal hyperparameters** \n",
    "</div>\n",
    "\n",
    "`CatBoost` provides two methods for hyperparameter tuning: `grid_search` and `randomized_search`. According to the framework's authors, these methods are optimized and perform the task faster than their counterparts in `sklearn`. [Grid search](https://catboost.ai/en/docs/concepts/python-reference_catboostclassifier_grid_search) simply iterates over parameters based on a specified grid, while [randomized search](https://catboost.ai/en/docs/concepts/python-reference_catboostclassifier_randomized_search) takes random samples from a given distribution.\n",
    "\n",
    "Let’s look at an example using `randomized search`. In the upcoming modules, you’ll learn about faster and smarter hyperparameter optimizers, but these are a good place to start.\n",
    "\n",
    "</div>"
   ]
  },
  {
   "cell_type": "markdown",
   "metadata": {},
   "source": [
    "<div class=\"alert\" style=\"background-color: #FFFFFF; border-left: 8px solid #1ABC9C; padding: 14px; border-radius: 8px; font-size: 14px; color: #000000;\">\n",
    "\n",
    "<div class=\"alert alert-info\">\n",
    "\n",
    "**Tuning optimal hyperparameters** \n",
    "</div>\n",
    "\n",
    "`CatBoost` provides two methods for hyperparameter tuning: `grid_search` and `randomized_search`. According to the framework's authors, these methods are optimized and perform the task faster than their counterparts in `sklearn`. [Grid search](https://catboost.ai/en/docs/concepts/python-reference_catboostclassifier_grid_search) simply iterates over parameters based on a specified grid, while [randomized search](https://catboost.ai/en/docs/concepts/python-reference_catboostclassifier_randomized_search) takes random samples from a given distribution.\n",
    "\n",
    "Let’s look at an example using `randomized search`. In the upcoming modules, you’ll learn about faster and smarter hyperparameter optimizers, but these are a good place to start.\n",
    "</div>\n"
   ]
  },
  {
   "cell_type": "markdown",
   "metadata": {},
   "source": [
    "<div class=\"alert\" style=\"background-color:#FFFFFF; border-left: 8px solid #5ad197; padding: 14px; border-radius: 8px; font-size: 14px; color: #000000;\">\n",
    "\n",
    "<div class=\"alert alert-success\">\n",
    "\n",
    "**Other Models and Modes** \n",
    "</div>\n",
    "\n",
    "* In this notebook, we only covered the classification model. We'll look at regression later.  \n",
    "* CatBoost can solve multi-class or even multi-label classification problems (by changing the loss function).  \n",
    "* The library also includes a model for ranking tasks: [**CatBoostRanker**](https://catboost.ai/en/docs/concepts/python-reference_catboostranker). <br>\n",
    "* An example of solving a [matching problem using CatBoostRanker at VTB DataFusionContest2022](https://github.com/Ivanich-spb/VTB_DataFusion_Contest_2022).\n",
    "\n",
    "</div>"
   ]
  }
 ],
 "metadata": {
  "kernelspec": {
   "display_name": ".venv",
   "language": "python",
   "name": "python3"
  },
  "language_info": {
   "codemirror_mode": {
    "name": "ipython",
    "version": 3
   },
   "file_extension": ".py",
   "mimetype": "text/x-python",
   "name": "python",
   "nbconvert_exporter": "python",
   "pygments_lexer": "ipython3",
   "version": "3.13.0"
  }
 },
 "nbformat": 4,
 "nbformat_minor": 2
}
